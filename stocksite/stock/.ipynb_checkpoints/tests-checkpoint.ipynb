{
 "cells": [
  {
   "cell_type": "code",
   "execution_count": 1,
   "id": "6a615920",
   "metadata": {},
   "outputs": [
    {
     "name": "stderr",
     "output_type": "stream",
     "text": [
      "2023-04-12 15:05:39.711 | WARNING  | importlib._bootstrap:_call_with_frames_removed:219 - Optional: pip install shioaji[speed] for better performance.\n"
     ]
    },
    {
     "name": "stdout",
     "output_type": "stream",
     "text": [
      "Response Code: 0 | Event Code: 0 | Info: host '203.66.91.161:80', hostname '203.66.91.161:80' IP 203.66.91.161:80 (host 1 of 1) (host connection attempt 1 of 1) (total connection attempt 1 of 1) | Event: Session up\n"
     ]
    }
   ],
   "source": [
    "import shioaji as sj\n",
    "\n",
    "api = sj.Shioaji()\n",
    "accounts =  api.login(\"Am96yneAwwSQuJZ7dTRRRkFKScDA5EPkLzuv1YJ7G6Q9\", \"6PATJ2pebdwWZyVkdmTqd8dcWNYZSHTPQSRLjpg6Sf8y\")\n",
    "result = api.activate_ca(\n",
    "    ca_path=\"C:\\\\Users\\\\ZiWei\\\\Desktop\\\\stockapp\\\\stocksite\\\\stock\\\\Sinopac.pfx\",\n",
    "    ca_passwd=\"R224836643\",\n",
    "    person_id=\"R224836643\",\n",
    ")"
   ]
  },
  {
   "cell_type": "code",
   "execution_count": 2,
   "id": "1184eeb6",
   "metadata": {},
   "outputs": [
    {
     "data": {
      "text/plain": [
       "Trade(contract=Stock(exchange=<Exchange.TSE: 'TSE'>, code='2890', symbol='TSE2890', name='永豐金', category='17', unit=1000, limit_up=18.25, limit_down=14.95, reference=16.6, update_date='2023/04/12', day_trade=<DayTrade.Yes: 'Yes'>), order=Order(action=<Action.Buy: 'Buy'>, price=18, quantity=1, id='1c835d13', seqno='603515', ordno='00000', account=Account(account_type=<AccountType.Stock: 'S'>, person_id='R224836643', broker_id='9A95', account_id='1912938', signed=True), price_type=<StockPriceType.LMT: 'LMT'>, order_type=<OrderType.ROD: 'ROD'>), status=OrderStatus(id='1c835d13', status=<Status.PendingSubmit: 'PendingSubmit'>, status_code='0', order_datetime=datetime.datetime(2023, 4, 12, 15, 5, 44), msg='委託處理中, 請於交易時間確認委託狀態!', deals=[]))"
      ]
     },
     "execution_count": 2,
     "metadata": {},
     "output_type": "execute_result"
    }
   ],
   "source": [
    "# 商品檔 - 請修改此處\n",
    "contract = api.Contracts.Stocks.TSE[\"2890\"]\n",
    "\n",
    "# 證券委託單 - 請修改此處\n",
    "order = api.Order(\n",
    "    price=18,                                       # 價格\n",
    "    quantity=1,                                     # 數量\n",
    "    action=sj.constant.Action.Buy,                  # 買賣別\n",
    "    price_type=sj.constant.StockPriceType.LMT,      # 委託價格類別\n",
    "    order_type=sj.constant.OrderType.ROD,           # 委託條件\n",
    "    account=api.stock_account                       # 下單帳號\n",
    ")\n",
    "\n",
    "# 下單\n",
    "trade = api.place_order(contract, order)\n",
    "trade"
   ]
  },
  {
   "cell_type": "code",
   "execution_count": 17,
   "id": "fbf19980",
   "metadata": {},
   "outputs": [],
   "source": [
    "data = api.list_profit_loss(api.stock_account,'2022-05-05','2023-04-11')[0]"
   ]
  },
  {
   "cell_type": "code",
   "execution_count": 18,
   "id": "8139d3bc",
   "metadata": {},
   "outputs": [
    {
     "data": {
      "text/plain": [
       "StockProfitLoss(id=0, code='2888', quantity=0, pnl=-2.0, date='2023-03-29', dseq='IF205', price=8.31, pr_ratio=-0.2222, seqno='27862')"
      ]
     },
     "execution_count": 18,
     "metadata": {},
     "output_type": "execute_result"
    }
   ],
   "source": [
    "data"
   ]
  },
  {
   "cell_type": "code",
   "execution_count": 19,
   "id": "92532a0b",
   "metadata": {},
   "outputs": [
    {
     "data": {
      "text/plain": [
       "0"
      ]
     },
     "execution_count": 19,
     "metadata": {},
     "output_type": "execute_result"
    }
   ],
   "source": [
    "data.id"
   ]
  },
  {
   "cell_type": "code",
   "execution_count": null,
   "id": "516c21c8",
   "metadata": {},
   "outputs": [],
   "source": []
  }
 ],
 "metadata": {
  "kernelspec": {
   "display_name": "Python 3 (ipykernel)",
   "language": "python",
   "name": "python3"
  },
  "language_info": {
   "codemirror_mode": {
    "name": "ipython",
    "version": 3
   },
   "file_extension": ".py",
   "mimetype": "text/x-python",
   "name": "python",
   "nbconvert_exporter": "python",
   "pygments_lexer": "ipython3",
   "version": "3.8.16"
  }
 },
 "nbformat": 4,
 "nbformat_minor": 5
}
