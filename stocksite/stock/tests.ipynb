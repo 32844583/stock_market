{
 "cells": [
  {
   "cell_type": "code",
   "execution_count": 1,
   "id": "6a615920",
   "metadata": {},
   "outputs": [
    {
     "name": "stderr",
     "output_type": "stream",
     "text": [
      "2023-04-18 18:14:48.638 | WARNING  | importlib._bootstrap:_call_with_frames_removed:219 - Optional: pip install shioaji[speed] for better performance.\n"
     ]
    },
    {
     "name": "stdout",
     "output_type": "stream",
     "text": [
      "Response Code: 0 | Event Code: 0 | Info: host '203.66.91.161:80', hostname '203.66.91.161:80' IP 203.66.91.161:80 (host 1 of 1) (host connection attempt 1 of 1) (total connection attempt 1 of 1) | Event: Session up\n"
     ]
    }
   ],
   "source": [
    "import shioaji as sj\n",
    "\n",
    "api = sj.Shioaji()\n",
    "accounts =  api.login(\"Am96yneAwwSQuJZ7dTRRRkFKScDA5EPkLzuv1YJ7G6Q9\", \"6PATJ2pebdwWZyVkdmTqd8dcWNYZSHTPQSRLjpg6Sf8y\")\n",
    "result = api.activate_ca(\n",
    "    ca_path=\"C:\\\\Users\\\\ZiWei\\\\Desktop\\\\stockapp\\\\stocksite\\\\stock\\\\Sinopac.pfx\",\n",
    "    ca_passwd=\"R224836643\",\n",
    "    person_id=\"R224836643\",\n",
    ")"
   ]
  },
  {
   "cell_type": "code",
   "execution_count": 2,
   "id": "1184eeb6",
   "metadata": {},
   "outputs": [
    {
     "data": {
      "text/plain": [
       "Trade(contract=Stock(exchange=<Exchange.TSE: 'TSE'>, code='2890', symbol='TSE2890', name='永豐金', category='17', unit=1000, limit_up=18.45, limit_down=15.15, reference=16.8, update_date='2023/04/18', day_trade=<DayTrade.Yes: 'Yes'>), order=Order(action=<Action.Buy: 'Buy'>, price=18, quantity=1, id='3d959bd6', seqno='351126', ordno='00000', account=Account(account_type=<AccountType.Stock: 'S'>, person_id='R224836643', broker_id='9A95', account_id='1912938', signed=True), price_type=<StockPriceType.LMT: 'LMT'>, order_type=<OrderType.ROD: 'ROD'>), status=OrderStatus(id='3d959bd6', status=<Status.PendingSubmit: 'PendingSubmit'>, status_code='0', order_datetime=datetime.datetime(2023, 4, 18, 18, 14, 54), msg='委託處理中, 請於交易時間確認委託狀態!', deals=[]))"
      ]
     },
     "execution_count": 2,
     "metadata": {},
     "output_type": "execute_result"
    }
   ],
   "source": [
    "# 商品檔 - 請修改此處\n",
    "contract = api.Contracts.Stocks.TSE[\"2890\"]\n",
    "\n",
    "# 證券委託單 - 請修改此處\n",
    "order = api.Order(\n",
    "    price=18,                                       # 價格\n",
    "    quantity=1,                                     # 數量\n",
    "    action=sj.constant.Action.Buy,                  # 買賣別\n",
    "    price_type=sj.constant.StockPriceType.LMT,      # 委託價格類別\n",
    "    order_type=sj.constant.OrderType.ROD,           # 委託條件\n",
    "    account=api.stock_account                       # 下單帳號\n",
    ")\n",
    "\n",
    "# 下單\n",
    "trade = api.place_order(contract, order)\n",
    "trade"
   ]
  },
  {
   "cell_type": "code",
   "execution_count": 5,
   "id": "74d19705",
   "metadata": {},
   "outputs": [],
   "source": [
    "api.update_status(api.stock_account)"
   ]
  },
  {
   "cell_type": "code",
   "execution_count": 7,
   "id": "b5590373",
   "metadata": {},
   "outputs": [
    {
     "data": {
      "text/plain": [
       "'PreSubmitted'"
      ]
     },
     "execution_count": 7,
     "metadata": {},
     "output_type": "execute_result"
    }
   ],
   "source": [
    "trade.status.status.value"
   ]
  },
  {
   "cell_type": "code",
   "execution_count": 4,
   "id": "472ef6f6",
   "metadata": {},
   "outputs": [
    {
     "data": {
      "text/plain": [
       "Trade(contract=Stock(exchange=<Exchange.TSE: 'TSE'>, code='2890', symbol='TSE2890', name='永豐金', category='17', unit=1000, limit_up=18.45, limit_down=15.15, reference=16.8, update_date='2023/04/18', day_trade=<DayTrade.Yes: 'Yes'>), order=Order(action=<Action.Buy: 'Buy'>, price=18, quantity=1, id='3d959bd6', seqno='351126', ordno='00000', account=Account(account_type=<AccountType.Stock: 'S'>, person_id='R224836643', broker_id='9A95', account_id='1912938', signed=True), price_type=<StockPriceType.LMT: 'LMT'>, order_type=<OrderType.ROD: 'ROD'>), status=OrderStatus(id='3d959bd6', status=<Status.PendingSubmit: 'PendingSubmit'>, status_code='0', order_datetime=datetime.datetime(2023, 4, 18, 18, 14, 54), msg='委託處理中, 請於交易時間確認委託狀態!', deals=[]))"
      ]
     },
     "execution_count": 4,
     "metadata": {},
     "output_type": "execute_result"
    }
   ],
   "source": [
    "api.update_order(trade=trade, qty=2)"
   ]
  },
  {
   "cell_type": "code",
   "execution_count": 3,
   "id": "fbf19980",
   "metadata": {},
   "outputs": [
    {
     "ename": "SystemMaintenance",
     "evalue": "StatusCode: 503, Detail: 結帳中，處理時間約1小時，請稍後再查詢。",
     "output_type": "error",
     "traceback": [
      "\u001b[1;31m---------------------------------------------------------------------------\u001b[0m",
      "\u001b[1;31mSystemMaintenance\u001b[0m                         Traceback (most recent call last)",
      "Cell \u001b[1;32mIn[3], line 1\u001b[0m\n\u001b[1;32m----> 1\u001b[0m data \u001b[38;5;241m=\u001b[39m \u001b[43mapi\u001b[49m\u001b[38;5;241;43m.\u001b[39;49m\u001b[43mlist_profit_loss\u001b[49m\u001b[43m(\u001b[49m\u001b[43mapi\u001b[49m\u001b[38;5;241;43m.\u001b[39;49m\u001b[43mstock_account\u001b[49m\u001b[43m,\u001b[49m\u001b[38;5;124;43m'\u001b[39;49m\u001b[38;5;124;43m2022-05-05\u001b[39;49m\u001b[38;5;124;43m'\u001b[39;49m\u001b[43m,\u001b[49m\u001b[38;5;124;43m'\u001b[39;49m\u001b[38;5;124;43m2023-04-11\u001b[39;49m\u001b[38;5;124;43m'\u001b[39;49m\u001b[43m)\u001b[49m[\u001b[38;5;241m0\u001b[39m]\n",
      "File \u001b[1;32m~\\anaconda3\\envs\\opencv\\lib\\site-packages\\shioaji\\shioaji.py:683\u001b[0m, in \u001b[0;36mShioaji.list_profit_loss\u001b[1;34m(self, account, begin_date, end_date, timeout, cb)\u001b[0m\n\u001b[0;32m    674\u001b[0m \u001b[38;5;124;03m\"\"\"query account of profit loss\u001b[39;00m\n\u001b[0;32m    675\u001b[0m \n\u001b[0;32m    676\u001b[0m \u001b[38;5;124;03mArgs:\u001b[39;00m\n\u001b[1;32m   (...)\u001b[0m\n\u001b[0;32m    680\u001b[0m \u001b[38;5;124;03m    end_date (str): the end date of query profit loss (Default: today)\u001b[39;00m\n\u001b[0;32m    681\u001b[0m \u001b[38;5;124;03m\"\"\"\u001b[39;00m\n\u001b[0;32m    682\u001b[0m \u001b[38;5;28;01mif\u001b[39;00m account:\n\u001b[1;32m--> 683\u001b[0m     \u001b[38;5;28;01mreturn\u001b[39;00m \u001b[38;5;28;43mself\u001b[39;49m\u001b[38;5;241;43m.\u001b[39;49m\u001b[43m_solace\u001b[49m\u001b[38;5;241;43m.\u001b[39;49m\u001b[43mlist_profit_loss\u001b[49m\u001b[43m(\u001b[49m\n\u001b[0;32m    684\u001b[0m \u001b[43m        \u001b[49m\u001b[43maccount\u001b[49m\u001b[43m,\u001b[49m\u001b[43m \u001b[49m\u001b[43mbegin_date\u001b[49m\u001b[43m,\u001b[49m\u001b[43m \u001b[49m\u001b[43mend_date\u001b[49m\u001b[43m,\u001b[49m\u001b[43m \u001b[49m\u001b[43mtimeout\u001b[49m\u001b[38;5;241;43m=\u001b[39;49m\u001b[43mtimeout\u001b[49m\u001b[43m,\u001b[49m\u001b[43m \u001b[49m\u001b[43mcb\u001b[49m\u001b[38;5;241;43m=\u001b[39;49m\u001b[43mcb\u001b[49m\n\u001b[0;32m    685\u001b[0m \u001b[43m    \u001b[49m\u001b[43m)\u001b[49m\n\u001b[0;32m    686\u001b[0m \u001b[38;5;28;01melse\u001b[39;00m:\n\u001b[0;32m    687\u001b[0m     default_account \u001b[38;5;241m=\u001b[39m \u001b[38;5;28mself\u001b[39m\u001b[38;5;241m.\u001b[39m_portfolio_default_account()\n",
      "File \u001b[1;32mshioaji\\backend\\solace\\api.pyx:1923\u001b[0m, in \u001b[0;36mshioaji.backend.solace.api.SolaceAPI.list_profit_loss\u001b[1;34m()\u001b[0m\n",
      "File \u001b[1;32mshioaji\\backend\\solace\\api.pyx:1895\u001b[0m, in \u001b[0;36mshioaji.backend.solace.api.SolaceAPI._list_profit_loss_cb\u001b[1;34m()\u001b[0m\n",
      "File \u001b[1;32m~\\anaconda3\\envs\\opencv\\lib\\site-packages\\shioaji\\utils.py:54\u001b[0m, in \u001b[0;36mraise_resp_error\u001b[1;34m(status_code, resp, session)\u001b[0m\n\u001b[0;32m     52\u001b[0m     \u001b[38;5;28;01mraise\u001b[39;00m TokenError(status_code, detail)\n\u001b[0;32m     53\u001b[0m \u001b[38;5;28;01melif\u001b[39;00m status_code \u001b[38;5;241m==\u001b[39m \u001b[38;5;241m503\u001b[39m:\n\u001b[1;32m---> 54\u001b[0m     \u001b[38;5;28;01mraise\u001b[39;00m SystemMaintenance(status_code, detail)\n\u001b[0;32m     55\u001b[0m \u001b[38;5;28;01melse\u001b[39;00m:\n\u001b[0;32m     56\u001b[0m     \u001b[38;5;28;01mraise\u001b[39;00m \u001b[38;5;167;01mException\u001b[39;00m(resp)\n",
      "\u001b[1;31mSystemMaintenance\u001b[0m: StatusCode: 503, Detail: 結帳中，處理時間約1小時，請稍後再查詢。"
     ]
    }
   ],
   "source": [
    "data = api.list_profit_loss(api.stock_account,'2022-05-05','2023-04-11')[0]"
   ]
  },
  {
   "cell_type": "code",
   "execution_count": 4,
   "id": "8139d3bc",
   "metadata": {},
   "outputs": [
    {
     "data": {
      "text/plain": [
       "StockProfitLoss(id=0, code='2888', quantity=0, pnl=-2.0, date='2023-03-29', dseq='IF205', price=8.31, pr_ratio=-0.2222, seqno='27862')"
      ]
     },
     "execution_count": 4,
     "metadata": {},
     "output_type": "execute_result"
    }
   ],
   "source": [
    "data"
   ]
  },
  {
   "cell_type": "code",
   "execution_count": 5,
   "id": "92532a0b",
   "metadata": {},
   "outputs": [
    {
     "data": {
      "text/plain": [
       "0"
      ]
     },
     "execution_count": 5,
     "metadata": {},
     "output_type": "execute_result"
    }
   ],
   "source": [
    "data.id"
   ]
  },
  {
   "cell_type": "code",
   "execution_count": null,
   "id": "516c21c8",
   "metadata": {},
   "outputs": [],
   "source": []
  }
 ],
 "metadata": {
  "kernelspec": {
   "display_name": "Python 3 (ipykernel)",
   "language": "python",
   "name": "python3"
  },
  "language_info": {
   "codemirror_mode": {
    "name": "ipython",
    "version": 3
   },
   "file_extension": ".py",
   "mimetype": "text/x-python",
   "name": "python",
   "nbconvert_exporter": "python",
   "pygments_lexer": "ipython3",
   "version": "3.8.16"
  }
 },
 "nbformat": 4,
 "nbformat_minor": 5
}
